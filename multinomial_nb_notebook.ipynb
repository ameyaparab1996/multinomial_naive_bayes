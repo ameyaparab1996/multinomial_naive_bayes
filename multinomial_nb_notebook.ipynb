{
  "cells": [
    {
      "cell_type": "markdown",
      "id": "6d22bf96",
      "metadata": {
        "id": "6d22bf96"
      },
      "source": [
        "#The Multinomial Naive Bayes algorithm is a Bayesian learning approach. \n",
        " \n",
        " In the current problem, the program makes an educated guess as to the country tag of a name, such as the country  \n",
        " where the given name is popular, using the Bayes theorem. \n",
        " \n",
        " It determines the likelihood of each tag for a particular sample and outputs the tag with the highest likelihood.\n",
        "\n",
        "##Working\n",
        "\n",
        "The Multinomial Naive Bayes method works well while examining text input and solving the problem that involve several\n",
        " classes. \n",
        " \n",
        "On the basis of prior knowledge of the event's conditions, it calculates the likelihood of occurrence. \n",
        " \n",
        " Here, we determine the country tag provided the name."
      ]
    },
    {
      "cell_type": "markdown",
      "id": "a40b7330",
      "metadata": {
        "id": "a40b7330"
      },
      "source": [
        "Merging all the names and split them into training (70%) and testing (30%) with shuffle = True."
      ]
    },
    {
      "cell_type": "code",
      "execution_count": null,
      "id": "943ec5e7",
      "metadata": {
        "id": "943ec5e7"
      },
      "outputs": [],
      "source": [
        "file_of_names = [\"arabic.txt\",\"us.txt\",\"greek.txt\",\"japan.txt\"]\n",
        "country = []\n",
        "names = []\n",
        "for name in file_of_names:\n",
        "    with open(\"/content/sample_data/\"+name) as file:\n",
        "        for line in file:\n",
        "            names.append(line[0:-1])\n",
        "            country.append(name[0:-4])"
      ]
    },
    {
      "cell_type": "code",
      "execution_count": null,
      "id": "fb61fefe",
      "metadata": {
        "colab": {
          "base_uri": "https://localhost:8080/",
          "height": 709
        },
        "id": "fb61fefe",
        "outputId": "6363c3c4-0c3c-44ee-c7b8-1aa8eae92ace"
      },
      "outputs": [
        {
          "output_type": "execute_result",
          "data": {
            "text/plain": [
              "                                       names country\n",
              "478                     الأستاذ عدوي العجمان  arabic\n",
              "3245                                   吉田 千代   japan\n",
              "2894                       Ερμόλαος Νικουλής   greek\n",
              "207                             بهية الشهابي  arabic\n",
              "1134                             Amanda Lamb      us\n",
              "3944                                   井上 明美   japan\n",
              "2752  Βαλεντίνα-Κωνσταντίνα Παπακωνσταντίνου   greek\n",
              "3652                                  佐々木 太一   japan\n",
              "1963                            Judy Dean MD      us\n",
              "652                              كسّاب قليبو  arabic"
            ],
            "text/html": [
              "\n",
              "  <div id=\"df-94260dda-cefb-419e-a48d-5173b7171079\">\n",
              "    <div class=\"colab-df-container\">\n",
              "      <div>\n",
              "<style scoped>\n",
              "    .dataframe tbody tr th:only-of-type {\n",
              "        vertical-align: middle;\n",
              "    }\n",
              "\n",
              "    .dataframe tbody tr th {\n",
              "        vertical-align: top;\n",
              "    }\n",
              "\n",
              "    .dataframe thead th {\n",
              "        text-align: right;\n",
              "    }\n",
              "</style>\n",
              "<table border=\"1\" class=\"dataframe\">\n",
              "  <thead>\n",
              "    <tr style=\"text-align: right;\">\n",
              "      <th></th>\n",
              "      <th>names</th>\n",
              "      <th>country</th>\n",
              "    </tr>\n",
              "  </thead>\n",
              "  <tbody>\n",
              "    <tr>\n",
              "      <th>478</th>\n",
              "      <td>الأستاذ عدوي العجمان</td>\n",
              "      <td>arabic</td>\n",
              "    </tr>\n",
              "    <tr>\n",
              "      <th>3245</th>\n",
              "      <td>吉田 千代</td>\n",
              "      <td>japan</td>\n",
              "    </tr>\n",
              "    <tr>\n",
              "      <th>2894</th>\n",
              "      <td>Ερμόλαος Νικουλής</td>\n",
              "      <td>greek</td>\n",
              "    </tr>\n",
              "    <tr>\n",
              "      <th>207</th>\n",
              "      <td>بهية الشهابي</td>\n",
              "      <td>arabic</td>\n",
              "    </tr>\n",
              "    <tr>\n",
              "      <th>1134</th>\n",
              "      <td>Amanda Lamb</td>\n",
              "      <td>us</td>\n",
              "    </tr>\n",
              "    <tr>\n",
              "      <th>3944</th>\n",
              "      <td>井上 明美</td>\n",
              "      <td>japan</td>\n",
              "    </tr>\n",
              "    <tr>\n",
              "      <th>2752</th>\n",
              "      <td>Βαλεντίνα-Κωνσταντίνα Παπακωνσταντίνου</td>\n",
              "      <td>greek</td>\n",
              "    </tr>\n",
              "    <tr>\n",
              "      <th>3652</th>\n",
              "      <td>佐々木 太一</td>\n",
              "      <td>japan</td>\n",
              "    </tr>\n",
              "    <tr>\n",
              "      <th>1963</th>\n",
              "      <td>Judy Dean MD</td>\n",
              "      <td>us</td>\n",
              "    </tr>\n",
              "    <tr>\n",
              "      <th>652</th>\n",
              "      <td>كسّاب قليبو</td>\n",
              "      <td>arabic</td>\n",
              "    </tr>\n",
              "  </tbody>\n",
              "</table>\n",
              "</div>\n",
              "      <button class=\"colab-df-convert\" onclick=\"convertToInteractive('df-94260dda-cefb-419e-a48d-5173b7171079')\"\n",
              "              title=\"Convert this dataframe to an interactive table.\"\n",
              "              style=\"display:none;\">\n",
              "        \n",
              "  <svg xmlns=\"http://www.w3.org/2000/svg\" height=\"24px\"viewBox=\"0 0 24 24\"\n",
              "       width=\"24px\">\n",
              "    <path d=\"M0 0h24v24H0V0z\" fill=\"none\"/>\n",
              "    <path d=\"M18.56 5.44l.94 2.06.94-2.06 2.06-.94-2.06-.94-.94-2.06-.94 2.06-2.06.94zm-11 1L8.5 8.5l.94-2.06 2.06-.94-2.06-.94L8.5 2.5l-.94 2.06-2.06.94zm10 10l.94 2.06.94-2.06 2.06-.94-2.06-.94-.94-2.06-.94 2.06-2.06.94z\"/><path d=\"M17.41 7.96l-1.37-1.37c-.4-.4-.92-.59-1.43-.59-.52 0-1.04.2-1.43.59L10.3 9.45l-7.72 7.72c-.78.78-.78 2.05 0 2.83L4 21.41c.39.39.9.59 1.41.59.51 0 1.02-.2 1.41-.59l7.78-7.78 2.81-2.81c.8-.78.8-2.07 0-2.86zM5.41 20L4 18.59l7.72-7.72 1.47 1.35L5.41 20z\"/>\n",
              "  </svg>\n",
              "      </button>\n",
              "      \n",
              "  <style>\n",
              "    .colab-df-container {\n",
              "      display:flex;\n",
              "      flex-wrap:wrap;\n",
              "      gap: 12px;\n",
              "    }\n",
              "\n",
              "    .colab-df-convert {\n",
              "      background-color: #E8F0FE;\n",
              "      border: none;\n",
              "      border-radius: 50%;\n",
              "      cursor: pointer;\n",
              "      display: none;\n",
              "      fill: #1967D2;\n",
              "      height: 32px;\n",
              "      padding: 0 0 0 0;\n",
              "      width: 32px;\n",
              "    }\n",
              "\n",
              "    .colab-df-convert:hover {\n",
              "      background-color: #E2EBFA;\n",
              "      box-shadow: 0px 1px 2px rgba(60, 64, 67, 0.3), 0px 1px 3px 1px rgba(60, 64, 67, 0.15);\n",
              "      fill: #174EA6;\n",
              "    }\n",
              "\n",
              "    [theme=dark] .colab-df-convert {\n",
              "      background-color: #3B4455;\n",
              "      fill: #D2E3FC;\n",
              "    }\n",
              "\n",
              "    [theme=dark] .colab-df-convert:hover {\n",
              "      background-color: #434B5C;\n",
              "      box-shadow: 0px 1px 3px 1px rgba(0, 0, 0, 0.15);\n",
              "      filter: drop-shadow(0px 1px 2px rgba(0, 0, 0, 0.3));\n",
              "      fill: #FFFFFF;\n",
              "    }\n",
              "  </style>\n",
              "\n",
              "      <script>\n",
              "        const buttonEl =\n",
              "          document.querySelector('#df-94260dda-cefb-419e-a48d-5173b7171079 button.colab-df-convert');\n",
              "        buttonEl.style.display =\n",
              "          google.colab.kernel.accessAllowed ? 'block' : 'none';\n",
              "\n",
              "        async function convertToInteractive(key) {\n",
              "          const element = document.querySelector('#df-94260dda-cefb-419e-a48d-5173b7171079');\n",
              "          const dataTable =\n",
              "            await google.colab.kernel.invokeFunction('convertToInteractive',\n",
              "                                                     [key], {});\n",
              "          if (!dataTable) return;\n",
              "\n",
              "          const docLinkHtml = 'Like what you see? Visit the ' +\n",
              "            '<a target=\"_blank\" href=https://colab.research.google.com/notebooks/data_table.ipynb>data table notebook</a>'\n",
              "            + ' to learn more about interactive tables.';\n",
              "          element.innerHTML = '';\n",
              "          dataTable['output_type'] = 'display_data';\n",
              "          await google.colab.output.renderOutput(dataTable, element);\n",
              "          const docLink = document.createElement('div');\n",
              "          docLink.innerHTML = docLinkHtml;\n",
              "          element.appendChild(docLink);\n",
              "        }\n",
              "      </script>\n",
              "    </div>\n",
              "  </div>\n",
              "  "
            ]
          },
          "metadata": {},
          "execution_count": 2
        },
        {
          "output_type": "execute_result",
          "data": {
            "text/plain": [
              "                             names country\n",
              "490                   جلنار فراهيد  arabic\n",
              "2617  Παρέσσα-Πολυξένη Ιωακειμίδου   greek\n",
              "233      الأستاذ نجم الدّين الخزرج  arabic\n",
              "3509                        山崎 美加子   japan\n",
              "1357                 Steven Murphy      us\n",
              "3930                         加藤 太郎   japan\n",
              "992            عبد العزيز جار الله  arabic\n",
              "3307                        中村 美加子   japan\n",
              "2748                  Πούλια Παυλή   greek\n",
              "159    الدكتورة اصيل مرازيق البقوم  arabic"
            ],
            "text/html": [
              "\n",
              "  <div id=\"df-0ca6a82f-4a81-4c33-8ef0-8dc5e1d91a49\">\n",
              "    <div class=\"colab-df-container\">\n",
              "      <div>\n",
              "<style scoped>\n",
              "    .dataframe tbody tr th:only-of-type {\n",
              "        vertical-align: middle;\n",
              "    }\n",
              "\n",
              "    .dataframe tbody tr th {\n",
              "        vertical-align: top;\n",
              "    }\n",
              "\n",
              "    .dataframe thead th {\n",
              "        text-align: right;\n",
              "    }\n",
              "</style>\n",
              "<table border=\"1\" class=\"dataframe\">\n",
              "  <thead>\n",
              "    <tr style=\"text-align: right;\">\n",
              "      <th></th>\n",
              "      <th>names</th>\n",
              "      <th>country</th>\n",
              "    </tr>\n",
              "  </thead>\n",
              "  <tbody>\n",
              "    <tr>\n",
              "      <th>490</th>\n",
              "      <td>جلنار فراهيد</td>\n",
              "      <td>arabic</td>\n",
              "    </tr>\n",
              "    <tr>\n",
              "      <th>2617</th>\n",
              "      <td>Παρέσσα-Πολυξένη Ιωακειμίδου</td>\n",
              "      <td>greek</td>\n",
              "    </tr>\n",
              "    <tr>\n",
              "      <th>233</th>\n",
              "      <td>الأستاذ نجم الدّين الخزرج</td>\n",
              "      <td>arabic</td>\n",
              "    </tr>\n",
              "    <tr>\n",
              "      <th>3509</th>\n",
              "      <td>山崎 美加子</td>\n",
              "      <td>japan</td>\n",
              "    </tr>\n",
              "    <tr>\n",
              "      <th>1357</th>\n",
              "      <td>Steven Murphy</td>\n",
              "      <td>us</td>\n",
              "    </tr>\n",
              "    <tr>\n",
              "      <th>3930</th>\n",
              "      <td>加藤 太郎</td>\n",
              "      <td>japan</td>\n",
              "    </tr>\n",
              "    <tr>\n",
              "      <th>992</th>\n",
              "      <td>عبد العزيز جار الله</td>\n",
              "      <td>arabic</td>\n",
              "    </tr>\n",
              "    <tr>\n",
              "      <th>3307</th>\n",
              "      <td>中村 美加子</td>\n",
              "      <td>japan</td>\n",
              "    </tr>\n",
              "    <tr>\n",
              "      <th>2748</th>\n",
              "      <td>Πούλια Παυλή</td>\n",
              "      <td>greek</td>\n",
              "    </tr>\n",
              "    <tr>\n",
              "      <th>159</th>\n",
              "      <td>الدكتورة اصيل مرازيق البقوم</td>\n",
              "      <td>arabic</td>\n",
              "    </tr>\n",
              "  </tbody>\n",
              "</table>\n",
              "</div>\n",
              "      <button class=\"colab-df-convert\" onclick=\"convertToInteractive('df-0ca6a82f-4a81-4c33-8ef0-8dc5e1d91a49')\"\n",
              "              title=\"Convert this dataframe to an interactive table.\"\n",
              "              style=\"display:none;\">\n",
              "        \n",
              "  <svg xmlns=\"http://www.w3.org/2000/svg\" height=\"24px\"viewBox=\"0 0 24 24\"\n",
              "       width=\"24px\">\n",
              "    <path d=\"M0 0h24v24H0V0z\" fill=\"none\"/>\n",
              "    <path d=\"M18.56 5.44l.94 2.06.94-2.06 2.06-.94-2.06-.94-.94-2.06-.94 2.06-2.06.94zm-11 1L8.5 8.5l.94-2.06 2.06-.94-2.06-.94L8.5 2.5l-.94 2.06-2.06.94zm10 10l.94 2.06.94-2.06 2.06-.94-2.06-.94-.94-2.06-.94 2.06-2.06.94z\"/><path d=\"M17.41 7.96l-1.37-1.37c-.4-.4-.92-.59-1.43-.59-.52 0-1.04.2-1.43.59L10.3 9.45l-7.72 7.72c-.78.78-.78 2.05 0 2.83L4 21.41c.39.39.9.59 1.41.59.51 0 1.02-.2 1.41-.59l7.78-7.78 2.81-2.81c.8-.78.8-2.07 0-2.86zM5.41 20L4 18.59l7.72-7.72 1.47 1.35L5.41 20z\"/>\n",
              "  </svg>\n",
              "      </button>\n",
              "      \n",
              "  <style>\n",
              "    .colab-df-container {\n",
              "      display:flex;\n",
              "      flex-wrap:wrap;\n",
              "      gap: 12px;\n",
              "    }\n",
              "\n",
              "    .colab-df-convert {\n",
              "      background-color: #E8F0FE;\n",
              "      border: none;\n",
              "      border-radius: 50%;\n",
              "      cursor: pointer;\n",
              "      display: none;\n",
              "      fill: #1967D2;\n",
              "      height: 32px;\n",
              "      padding: 0 0 0 0;\n",
              "      width: 32px;\n",
              "    }\n",
              "\n",
              "    .colab-df-convert:hover {\n",
              "      background-color: #E2EBFA;\n",
              "      box-shadow: 0px 1px 2px rgba(60, 64, 67, 0.3), 0px 1px 3px 1px rgba(60, 64, 67, 0.15);\n",
              "      fill: #174EA6;\n",
              "    }\n",
              "\n",
              "    [theme=dark] .colab-df-convert {\n",
              "      background-color: #3B4455;\n",
              "      fill: #D2E3FC;\n",
              "    }\n",
              "\n",
              "    [theme=dark] .colab-df-convert:hover {\n",
              "      background-color: #434B5C;\n",
              "      box-shadow: 0px 1px 3px 1px rgba(0, 0, 0, 0.15);\n",
              "      filter: drop-shadow(0px 1px 2px rgba(0, 0, 0, 0.3));\n",
              "      fill: #FFFFFF;\n",
              "    }\n",
              "  </style>\n",
              "\n",
              "      <script>\n",
              "        const buttonEl =\n",
              "          document.querySelector('#df-0ca6a82f-4a81-4c33-8ef0-8dc5e1d91a49 button.colab-df-convert');\n",
              "        buttonEl.style.display =\n",
              "          google.colab.kernel.accessAllowed ? 'block' : 'none';\n",
              "\n",
              "        async function convertToInteractive(key) {\n",
              "          const element = document.querySelector('#df-0ca6a82f-4a81-4c33-8ef0-8dc5e1d91a49');\n",
              "          const dataTable =\n",
              "            await google.colab.kernel.invokeFunction('convertToInteractive',\n",
              "                                                     [key], {});\n",
              "          if (!dataTable) return;\n",
              "\n",
              "          const docLinkHtml = 'Like what you see? Visit the ' +\n",
              "            '<a target=\"_blank\" href=https://colab.research.google.com/notebooks/data_table.ipynb>data table notebook</a>'\n",
              "            + ' to learn more about interactive tables.';\n",
              "          element.innerHTML = '';\n",
              "          dataTable['output_type'] = 'display_data';\n",
              "          await google.colab.output.renderOutput(dataTable, element);\n",
              "          const docLink = document.createElement('div');\n",
              "          docLink.innerHTML = docLinkHtml;\n",
              "          element.appendChild(docLink);\n",
              "        }\n",
              "      </script>\n",
              "    </div>\n",
              "  </div>\n",
              "  "
            ]
          },
          "metadata": {},
          "execution_count": 13
        }
      ],
      "source": [
        "import pandas as pd\n",
        "\n",
        "combined_names = pd.DataFrame({'names':names,'country':country})\n",
        "combined_names.sample(10)"
      ]
    },
    {
      "cell_type": "code",
      "execution_count": null,
      "id": "d422a8fe",
      "metadata": {
        "id": "d422a8fe"
      },
      "outputs": [],
      "source": [
        "# create a dataframe using texts and lables\n",
        "trainDF = pd.DataFrame()\n",
        "trainDF['text'] = names\n",
        "trainDF['label'] = country"
      ]
    },
    {
      "cell_type": "code",
      "source": [
        "from sklearn import preprocessing\n",
        "import numpy as np\n",
        "\n",
        "# preprocessing logic is referenced from https://towardsdatascience.com/name-classification-with-naive-bayes-7c5e1415788a\n",
        "# creating mapping from unique label texts to unique integers\n",
        "encoder = preprocessing.OrdinalEncoder()\n",
        "\n",
        "# using the encoder to encode the entire dataset\n",
        "y = encoder.fit_transform(combined_names['country'].values.reshape(-1,1))"
      ],
      "metadata": {
        "id": "82-Ll7Oyuzpj"
      },
      "id": "82-Ll7Oyuzpj",
      "execution_count": null,
      "outputs": []
    },
    {
      "cell_type": "code",
      "execution_count": null,
      "id": "819dd9c1",
      "metadata": {
        "id": "819dd9c1"
      },
      "outputs": [],
      "source": [
        "from sklearn.model_selection import train_test_split\n",
        "\n",
        "# split the dataset into training and validation datasets \n",
        "x_train, x_test, y_train, y_test = train_test_split(combined_names['names'], y, test_size=0.3, shuffle = True)"
      ]
    },
    {
      "cell_type": "code",
      "source": [
        "from sklearn.feature_extraction.text import CountVectorizer\n",
        "\n",
        "def count_vectorize_label(names):\n",
        "# Initialize and fit CountVectorizer with given text documents\n",
        "  vectorizer = CountVectorizer().fit(names)\n",
        "\n",
        "# use the vectorizer to transform the document into word count vectors (Sparse)\n",
        "  word_mat = vectorizer.transform(names)\n",
        "  print(len(vectorizer.get_feature_names_out()))\n",
        "  return word_mat"
      ],
      "metadata": {
        "id": "5JOi0cMYDFaH"
      },
      "id": "5JOi0cMYDFaH",
      "execution_count": null,
      "outputs": []
    },
    {
      "cell_type": "code",
      "source": [
        "train_data = {'names': np.array(x_train), 'country': np.array(y_train.flatten())}\n",
        "train_df = pd.DataFrame(data=train_data)\n",
        "#train_df = train_df.sort_values(by=['country'], ascending=True)\n",
        "train_df = train_df.set_index('country', append=True).sort_index(level=1).reset_index(level=1)\n",
        "x_train_sorted = train_df['names']\n",
        "y_train_sorted = train_df['country']"
      ],
      "metadata": {
        "id": "ZAtQtUaBEIIh"
      },
      "id": "ZAtQtUaBEIIh",
      "execution_count": null,
      "outputs": []
    },
    {
      "cell_type": "markdown",
      "source": [
        "Count Vectorizing training and test names:"
      ],
      "metadata": {
        "id": "iz6Men3_YZ9S"
      },
      "id": "iz6Men3_YZ9S"
    },
    {
      "cell_type": "code",
      "source": [
        "train_names = []\n",
        "names_index = [0]\n",
        "index = 0\n",
        "for i in range (0,4):\n",
        "   train_names.append(np.array(x_train_sorted)[min(np.where(y_train_sorted == i)[0]): max(np.where(y_train_sorted == i)[0] + 1)])\n",
        "   index += len(train_names[i])\n",
        "   names_index.append(index)\n",
        "\n",
        "combined_names = np.append(np.array(x_train_sorted), np.array(x_test))\n",
        "word_mat = count_vectorize_label(combined_names)\n",
        "train_word_mat = word_mat[0:len(train_df)]\n",
        "test_word_mat = word_mat[len(train_df):word_mat.shape[0]]\n",
        "names_index"
      ],
      "metadata": {
        "id": "HfE2-nakIau9",
        "colab": {
          "base_uri": "https://localhost:8080/"
        },
        "outputId": "017de4c0-4346-4962-cfc0-c52dcb43a350"
      },
      "id": "HfE2-nakIau9",
      "execution_count": null,
      "outputs": [
        {
          "output_type": "stream",
          "name": "stdout",
          "text": [
            "3043\n"
          ]
        },
        {
          "output_type": "execute_result",
          "data": {
            "text/plain": [
              "[0, 732, 1424, 2108, 2800]"
            ]
          },
          "metadata": {},
          "execution_count": 8
        },
        {
          "output_type": "stream",
          "name": "stdout",
          "text": [
            "3043\n"
          ]
        },
        {
          "output_type": "execute_result",
          "data": {
            "text/plain": [
              "[0, 698, 1410, 2106, 2800]"
            ]
          },
          "metadata": {},
          "execution_count": 19
        }
      ]
    },
    {
      "cell_type": "markdown",
      "source": [
        "Calculating probability of each class:"
      ],
      "metadata": {
        "id": "fwjFjensYQ63"
      },
      "id": "fwjFjensYQ63"
    },
    {
      "cell_type": "code",
      "source": [
        "#probability of each class\n",
        "p_country = {}\n",
        "for i in range (0,4):\n",
        "  p_country[i] = np.count_nonzero(y_train == [i])/len(y_train)"
      ],
      "metadata": {
        "id": "RdcHpCFf1_5W"
      },
      "id": "RdcHpCFf1_5W",
      "execution_count": null,
      "outputs": []
    },
    {
      "cell_type": "code",
      "source": [
        "#logic for this function is referred through youtube video (https://www.youtube.com/watch?v=mqYa0LaA9WI)\n",
        "def calc_probability(a, country, nonzero_columns, test_name_arr):\n",
        "  #start and end index of training word matrix\n",
        "  if(country == 0):\n",
        "    begin = names_index[country]\n",
        "  else:\n",
        "    begin = names_index[country] + 1\n",
        "  end = names_index[country+1] \n",
        "\n",
        "  p_xi_given_country = []\n",
        "  p_xi = []\n",
        "  unique_columns = word_mat.shape[1]\n",
        "  sum_all_columns = 0\n",
        "\n",
        "  for j in range(0,train_word_mat.shape[1]):\n",
        "    all_rows = train_word_mat.getcol(j).toarray().flatten()\n",
        "    country_rows = all_rows[begin:end]\n",
        "    sum_all_columns += sum(country_rows)\n",
        "\n",
        "  for i in range(0, train_word_mat.shape[1]):\n",
        "    all_rows = train_word_mat.getcol(i).toarray().flatten()\n",
        "    country_rows = all_rows[begin:end]\n",
        "    sum_all_columns += sum(country_rows)\n",
        "\n",
        "    complete_arr = word_mat.getcol(i).toarray().flatten()\n",
        "    country_arr = complete_arr[begin:end]\n",
        "\n",
        "    #calculating conditional probability with smootheneing\n",
        "    p_xi_given_country.append(((sum(country_arr)+a) / (sum_all_columns + (a*unique_columns))) ** test_name_arr[i])\n",
        "     \n",
        "  posterior_prob = np.prod(p_xi_given_country) * p_country[country]\n",
        "  return posterior_prob"
      ],
      "metadata": {
        "id": "EJiwxgsyGiip"
      },
      "id": "EJiwxgsyGiip",
      "execution_count": null,
      "outputs": []
    },
    {
      "cell_type": "code",
      "source": [
        "def predict_country(a, index, test_word_mat):\n",
        "  y_preds = []\n",
        "  test_name_arr = test_word_mat.getrow(index).toarray().flatten()\n",
        "  nonzero_columns = np.nonzero(test_name_arr)[0]\n",
        "  p = []\n",
        "\n",
        "  for i in range(0,4):  \n",
        "    p.append(calc_probability(a,i,nonzero_columns, test_name_arr))\n",
        "\n",
        "  return p.index(max(p))"
      ],
      "metadata": {
        "id": "AOQHNWz2D0GB"
      },
      "id": "AOQHNWz2D0GB",
      "execution_count": null,
      "outputs": []
    },
    {
      "cell_type": "markdown",
      "source": [
        "Prediction and calculation of accuracy:"
      ],
      "metadata": {
        "id": "KWbo8e0eaB8h"
      },
      "id": "KWbo8e0eaB8h"
    },
    {
      "cell_type": "code",
      "source": [
        "from sklearn.metrics import confusion_matrix\n",
        "\n",
        "def calc_accuracy(a, test_word_mat, start, end):\n",
        "  y_preds = []\n",
        "\n",
        "  for i in range(start, end):\n",
        "    y_preds.append(predict_country(a, i, test_word_mat))\n",
        "\n",
        "  correct_predictions = sum(a == b for a,b in zip([int(y) for y in y_test], y_preds))\n",
        "  total_predictions = len(y_preds)\n",
        "  accuracy = correct_predictions / total_predictions\n",
        "  return y_preds, accuracy"
      ],
      "metadata": {
        "id": "wTByHvqbdAKG"
      },
      "id": "wTByHvqbdAKG",
      "execution_count": null,
      "outputs": []
    },
    {
      "cell_type": "markdown",
      "source": [
        "Calculating accuracy of 10 records only for showing the accuracy calculation and prediction purpose."
      ],
      "metadata": {
        "id": "Gx8BhGAuqZEC"
      },
      "id": "Gx8BhGAuqZEC"
    },
    {
      "cell_type": "code",
      "source": [
        "a = 0.001\n",
        "start = 0\n",
        "end = 10\n",
        "y_preds, accuracy_10 = calc_accuracy(a, test_word_mat, start, end)\n",
        "print(\"Accuracy of 10 records: %\", accuracy_10)"
      ],
      "metadata": {
        "colab": {
          "base_uri": "https://localhost:8080/"
        },
        "id": "CQa6Z-u7pZCG",
        "outputId": "259a41ad-79a9-43e5-b10d-dc18a7befc3a"
      },
      "id": "CQa6Z-u7pZCG",
      "execution_count": null,
      "outputs": [
        {
          "output_type": "stream",
          "name": "stdout",
          "text": [
            "Accuracy of 10 records: % 0.9\n"
          ]
        }
      ]
    },
    {
      "cell_type": "markdown",
      "source": [
        "Prediction of a single name:"
      ],
      "metadata": {
        "id": "uP4gSbW7rMqN"
      },
      "id": "uP4gSbW7rMqN"
    },
    {
      "cell_type": "code",
      "source": [
        "a = 0.001\n",
        "start = 399\n",
        "end = 400\n",
        "y_preds, accuracy_1 = calc_accuracy(a, test_word_mat, start, end)\n",
        "\n",
        "def find_country(num):\n",
        "  country = [\"arabic\", \"greek\", \"japan\", \"us\"]\n",
        "  return country[num]\n",
        "\n",
        "print(\"Name: \", np.array(x_test)[start])\n",
        "print(\"Actual country: \", find_country(int(y_test[start][0])))\n",
        "print(\"Predicted country: \", find_country(y_preds[0]))"
      ],
      "metadata": {
        "colab": {
          "base_uri": "https://localhost:8080/"
        },
        "id": "f8bmr0XzrOzF",
        "outputId": "10d03bfe-9a55-423d-b7b6-f93661299310"
      },
      "id": "f8bmr0XzrOzF",
      "execution_count": null,
      "outputs": [
        {
          "output_type": "stream",
          "name": "stdout",
          "text": [
            "Name:  鈴木 千代\n",
            "Actual country:  japan\n",
            "Predicted country:  japan\n"
          ]
        }
      ]
    },
    {
      "cell_type": "markdown",
      "source": [
        "Calculation of accuracy for the entire test data set."
      ],
      "metadata": {
        "id": "0QSdGsKqrBPZ"
      },
      "id": "0QSdGsKqrBPZ"
    },
    {
      "cell_type": "code",
      "source": [
        "a = 0.001\n",
        "start = 0\n",
        "end = len(y_test)\n",
        "y_preds, accuracy = calc_accuracy(a, test_word_mat, start, end)\n",
        "print(\"Accuracy of all the test records: %\", accuracy)"
      ],
      "metadata": {
        "id": "7199-d8zrAUC"
      },
      "id": "7199-d8zrAUC",
      "execution_count": null,
      "outputs": []
    }
  ],
  "metadata": {
    "kernelspec": {
      "display_name": "Python 3 (ipykernel)",
      "language": "python",
      "name": "python3"
    },
    "language_info": {
      "codemirror_mode": {
        "name": "ipython",
        "version": 3
      },
      "file_extension": ".py",
      "mimetype": "text/x-python",
      "name": "python",
      "nbconvert_exporter": "python",
      "pygments_lexer": "ipython3",
      "version": "3.9.12"
    },
    "colab": {
      "provenance": []
    }
  },
  "nbformat": 4,
  "nbformat_minor": 5
}